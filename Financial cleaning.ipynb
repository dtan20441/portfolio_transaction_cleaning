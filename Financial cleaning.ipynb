{
 "cells": [
  {
   "cell_type": "code",
   "execution_count": 1,
   "id": "d6d3f553",
   "metadata": {},
   "outputs": [],
   "source": [
    "import pandas as pd \n",
    "import matplotlib.pyplot as plt"
   ]
  },
  {
   "cell_type": "code",
   "execution_count": 2,
   "id": "5757e66d",
   "metadata": {},
   "outputs": [],
   "source": [
    "df = pd.read_csv(\"dirty_financial_transactions.csv\")"
   ]
  },
  {
   "cell_type": "code",
   "execution_count": 3,
   "id": "f549a88a",
   "metadata": {},
   "outputs": [
    {
     "data": {
      "text/html": [
       "<div>\n",
       "<style scoped>\n",
       "    .dataframe tbody tr th:only-of-type {\n",
       "        vertical-align: middle;\n",
       "    }\n",
       "\n",
       "    .dataframe tbody tr th {\n",
       "        vertical-align: top;\n",
       "    }\n",
       "\n",
       "    .dataframe thead th {\n",
       "        text-align: right;\n",
       "    }\n",
       "</style>\n",
       "<table border=\"1\" class=\"dataframe\">\n",
       "  <thead>\n",
       "    <tr style=\"text-align: right;\">\n",
       "      <th></th>\n",
       "      <th>Transaction_ID</th>\n",
       "      <th>Transaction_Date</th>\n",
       "      <th>Customer_ID</th>\n",
       "      <th>Product_Name</th>\n",
       "      <th>Quantity</th>\n",
       "      <th>Price</th>\n",
       "      <th>Payment_Method</th>\n",
       "      <th>Transaction_Status</th>\n",
       "    </tr>\n",
       "  </thead>\n",
       "  <tbody>\n",
       "    <tr>\n",
       "      <th>0</th>\n",
       "      <td>T0001</td>\n",
       "      <td>2024-08-02</td>\n",
       "      <td>C2205</td>\n",
       "      <td>Headphones</td>\n",
       "      <td>-5.0</td>\n",
       "      <td>$420.21</td>\n",
       "      <td>pay pal</td>\n",
       "      <td>NaN</td>\n",
       "    </tr>\n",
       "    <tr>\n",
       "      <th>1</th>\n",
       "      <td>T0002</td>\n",
       "      <td>2020-02-10</td>\n",
       "      <td>C3156</td>\n",
       "      <td>Coffee</td>\n",
       "      <td>469.0</td>\n",
       "      <td>-445.34202525395585</td>\n",
       "      <td>creditcard</td>\n",
       "      <td>Pending</td>\n",
       "    </tr>\n",
       "    <tr>\n",
       "      <th>2</th>\n",
       "      <td>T0003</td>\n",
       "      <td>2025-02-30</td>\n",
       "      <td>C2919</td>\n",
       "      <td>Tablet</td>\n",
       "      <td>-4.0</td>\n",
       "      <td>810.9930123946459</td>\n",
       "      <td>credit card</td>\n",
       "      <td>completed</td>\n",
       "    </tr>\n",
       "    <tr>\n",
       "      <th>3</th>\n",
       "      <td>T0004</td>\n",
       "      <td>2020-08-17</td>\n",
       "      <td>C3009</td>\n",
       "      <td>Tab</td>\n",
       "      <td>-7.0</td>\n",
       "      <td>868.6083413217348</td>\n",
       "      <td>PayPal</td>\n",
       "      <td>Pending</td>\n",
       "    </tr>\n",
       "    <tr>\n",
       "      <th>4</th>\n",
       "      <td>T0005</td>\n",
       "      <td>2025-02-30</td>\n",
       "      <td>C3488</td>\n",
       "      <td>Coffee Machine</td>\n",
       "      <td>-10.0</td>\n",
       "      <td>-763.1224490039416</td>\n",
       "      <td>PayPal</td>\n",
       "      <td>completed</td>\n",
       "    </tr>\n",
       "  </tbody>\n",
       "</table>\n",
       "</div>"
      ],
      "text/plain": [
       "  Transaction_ID Transaction_Date Customer_ID    Product_Name  Quantity  \\\n",
       "0          T0001       2024-08-02       C2205      Headphones      -5.0   \n",
       "1          T0002       2020-02-10       C3156         Coffee      469.0   \n",
       "2          T0003       2025-02-30       C2919          Tablet      -4.0   \n",
       "3          T0004       2020-08-17       C3009             Tab      -7.0   \n",
       "4          T0005       2025-02-30       C3488  Coffee Machine     -10.0   \n",
       "\n",
       "                 Price Payment_Method Transaction_Status  \n",
       "0              $420.21        pay pal                NaN  \n",
       "1  -445.34202525395585     creditcard            Pending  \n",
       "2    810.9930123946459    credit card          completed  \n",
       "3    868.6083413217348         PayPal            Pending  \n",
       "4   -763.1224490039416         PayPal          completed  "
      ]
     },
     "execution_count": 3,
     "metadata": {},
     "output_type": "execute_result"
    }
   ],
   "source": [
    "df.head()"
   ]
  },
  {
   "cell_type": "markdown",
   "id": "978129db",
   "metadata": {},
   "source": [
    "## EDA"
   ]
  },
  {
   "cell_type": "code",
   "execution_count": 4,
   "id": "e44daaef",
   "metadata": {},
   "outputs": [
    {
     "name": "stdout",
     "output_type": "stream",
     "text": [
      "<class 'pandas.core.frame.DataFrame'>\n",
      "RangeIndex: 100000 entries, 0 to 99999\n",
      "Data columns (total 8 columns):\n",
      " #   Column              Non-Null Count   Dtype  \n",
      "---  ------              --------------   -----  \n",
      " 0   Transaction_ID      94982 non-null   object \n",
      " 1   Transaction_Date    95120 non-null   object \n",
      " 2   Customer_ID         95122 non-null   object \n",
      " 3   Product_Name        100000 non-null  object \n",
      " 4   Quantity            94981 non-null   float64\n",
      " 5   Price               66503 non-null   object \n",
      " 6   Payment_Method      100000 non-null  object \n",
      " 7   Transaction_Status  83321 non-null   object \n",
      "dtypes: float64(1), object(7)\n",
      "memory usage: 6.1+ MB\n"
     ]
    }
   ],
   "source": [
    "df.info()"
   ]
  },
  {
   "cell_type": "code",
   "execution_count": 5,
   "id": "ef7c0841",
   "metadata": {},
   "outputs": [
    {
     "data": {
      "text/plain": [
       "Transaction_ID         5018\n",
       "Transaction_Date       4880\n",
       "Customer_ID            4878\n",
       "Product_Name              0\n",
       "Quantity               5019\n",
       "Price                 33497\n",
       "Payment_Method            0\n",
       "Transaction_Status    16679\n",
       "dtype: int64"
      ]
     },
     "execution_count": 5,
     "metadata": {},
     "output_type": "execute_result"
    }
   ],
   "source": [
    "df.isnull().sum() "
   ]
  },
  {
   "cell_type": "code",
   "execution_count": 6,
   "id": "96b26f41",
   "metadata": {},
   "outputs": [
    {
     "data": {
      "text/plain": [
       "Transaction_ID        94040\n",
       "Transaction_Date       1861\n",
       "Customer_ID            5000\n",
       "Product_Name             46\n",
       "Quantity                921\n",
       "Price                 65757\n",
       "Payment_Method            7\n",
       "Transaction_Status        5\n",
       "dtype: int64"
      ]
     },
     "execution_count": 6,
     "metadata": {},
     "output_type": "execute_result"
    }
   ],
   "source": [
    "df.nunique()"
   ]
  },
  {
   "cell_type": "markdown",
   "id": "ff9297d4",
   "metadata": {},
   "source": [
    "## Data cleaning"
   ]
  },
  {
   "cell_type": "code",
   "execution_count": 7,
   "id": "b12c5706",
   "metadata": {},
   "outputs": [],
   "source": [
    "df = df.drop_duplicates() # drop duplicate rows"
   ]
  },
  {
   "cell_type": "markdown",
   "id": "5f56905b",
   "metadata": {},
   "source": [
    "### Cleaning Transaction IDs"
   ]
  },
  {
   "cell_type": "code",
   "execution_count": 8,
   "id": "728a7f9a",
   "metadata": {},
   "outputs": [],
   "source": [
    "# clean Transaction_ID by stripping spaces\n",
    "df['Transaction_ID'] = df['Transaction_ID'].astype(str).str.strip()\n",
    "\n",
    "# filter to keep only valid Transaction_IDs (e.g., T followed by digits)\n",
    "df = df[df['Transaction_ID'].str.match(r'^T\\d+$', na=False)]\n",
    "\n",
    "# extract numeric part for sorting\n",
    "df['Txn_Num'] = df['Transaction_ID'].str.replace('T', '', regex=False).astype(int)\n",
    "\n",
    "# sort by Txn_Num \n",
    "df = df.sort_values('Txn_Num')\n",
    "\n",
    "# rearrange columns\n",
    "cols = ['Transaction_ID', 'Transaction_Date', 'Customer_ID', 'Product_Name',\n",
    "        'Quantity', 'Price', 'Payment_Method', 'Transaction_Status']\n",
    "\n",
    "df = df[cols]"
   ]
  },
  {
   "cell_type": "markdown",
   "id": "898f982e",
   "metadata": {},
   "source": [
    "### Standardise date formats"
   ]
  },
  {
   "cell_type": "code",
   "execution_count": 9,
   "id": "07dd4155",
   "metadata": {},
   "outputs": [],
   "source": [
    "df['Transaction_Date'] = pd.to_datetime(df['Transaction_Date'], format='%Y-%m-%d', errors='coerce')"
   ]
  },
  {
   "cell_type": "markdown",
   "id": "c3fe34ef",
   "metadata": {},
   "source": [
    "Some Transaction_Date entries were invalid dates such as 30th of February and they have since been replace with \"NaT\"."
   ]
  },
  {
   "cell_type": "markdown",
   "id": "cf8f55d5",
   "metadata": {},
   "source": [
    "### Standardise product names"
   ]
  },
  {
   "cell_type": "code",
   "execution_count": 10,
   "id": "3d4ac28a",
   "metadata": {},
   "outputs": [],
   "source": [
    "df[\"Product_Name\"].unique()\n",
    "\n",
    "product_standardisation_map = {\n",
    "    # coffee related\n",
    "    'Coffee': 'Coffee Machine',\n",
    "    'Coffee ': 'Coffee Machine',\n",
    "    'Cof': 'Coffee Machine',\n",
    "    'Coff': 'Coffee Machine',\n",
    "    'Coffe': 'Coffee Machine',\n",
    "    'Co': 'Coffee Machine',\n",
    "    'C': 'Coffee Machine',\n",
    "    'Coffee M': 'Coffee Machine',\n",
    "    'Coffee Ma': 'Coffee Machine',\n",
    "    'Coffee Mac': 'Coffee Machine',\n",
    "    'Coffee Mach': 'Coffee Machine',\n",
    "    'Coffee Machi': 'Coffee Machine',\n",
    "    'Coffee Machin': 'Coffee Machine',\n",
    "    'Coffee Machine': 'Coffee Machine',\n",
    "\n",
    "    # headphones\n",
    "    'Headphones': 'Headphones',\n",
    "    'Headp': 'Headphones',\n",
    "    'Head': 'Headphones',\n",
    "    'Hea': 'Headphones',\n",
    "    'He': 'Headphones',\n",
    "    'H': 'Headphones',\n",
    "    'Headphon': 'Headphones',\n",
    "    'Headphone': 'Headphones',\n",
    "    'Headph': 'Headphones',\n",
    "    'Headpho': 'Headphones',\n",
    "\n",
    "    # laptop\n",
    "    'Laptop': 'Laptop',\n",
    "    'Lapt': 'Laptop',\n",
    "    'Lap': 'Laptop',\n",
    "    'Lapto': 'Laptop',\n",
    "    'L': 'Laptop',\n",
    "    'La': 'Laptop',\n",
    "\n",
    "    # smartphone\n",
    "    'Smartphone': 'Smartphone',\n",
    "    'Smartph': 'Smartphone',\n",
    "    'Smartpho': 'Smartphone',\n",
    "    'Smartphon': 'Smartphone',\n",
    "    'Smartp': 'Smartphone',\n",
    "    'Smar': 'Smartphone',\n",
    "    'Sma': 'Smartphone',\n",
    "    'Sm': 'Smartphone',\n",
    "    'S': 'Smartphone',\n",
    "    'Smart': 'Smartphone',\n",
    "\n",
    "    # tablet\n",
    "    'Tablet': 'Tablet',\n",
    "    'Tab': 'Tablet',\n",
    "    'Tabl': 'Tablet',\n",
    "    'Table': 'Tablet',\n",
    "    'Ta': 'Tablet',\n",
    "    'T': 'Tablet',\n",
    "}\n",
    "\n",
    "df['Product_Name'] = df['Product_Name'].str.strip()  # remove extra spaces\n",
    "df['Product_Name'] = df['Product_Name'].map(product_standardisation_map).fillna(df['Product_Name'])  # apply mapping"
   ]
  },
  {
   "cell_type": "markdown",
   "id": "cae48a58",
   "metadata": {},
   "source": [
    "### Transforming negative quantity values to positive"
   ]
  },
  {
   "cell_type": "code",
   "execution_count": 11,
   "id": "23b8b23f",
   "metadata": {},
   "outputs": [],
   "source": [
    "df['Quantity'] = df['Quantity'].abs()"
   ]
  },
  {
   "cell_type": "markdown",
   "id": "bab9f3b5",
   "metadata": {},
   "source": [
    "### Remove quantity outliers "
   ]
  },
  {
   "cell_type": "code",
   "execution_count": 12,
   "id": "919ab890",
   "metadata": {},
   "outputs": [],
   "source": [
    "df.boxplot()\n",
    "\n",
    "q1 = df['Quantity'].quantile(0.25)\n",
    "q3 = df['Quantity'].quantile(0.75)\n",
    "iqr = q3 - q1\n",
    "\n",
    "# define upper limit as Q3 + 1.5*IQR\n",
    "upper_limit = q3 + 1.5 * iqr\n",
    "\n",
    "# keep values that are below the defined upper limit\n",
    "df = df[df['Quantity'] <= upper_limit]"
   ]
  },
  {
   "cell_type": "markdown",
   "id": "111d1207",
   "metadata": {},
   "source": [
    "### Standardise price formats and convert negative values to positive"
   ]
  },
  {
   "cell_type": "code",
   "execution_count": 15,
   "id": "bd4d6a94",
   "metadata": {},
   "outputs": [],
   "source": [
    "# remove '$' and convert to numeric\n",
    "df['Price'] = pd.to_numeric(df['Price'].astype(str).str.replace('$', '', regex=False), errors='coerce')\n",
    "\n",
    "# convert to positive\n",
    "df['Price'] = df['Price'].abs()\n",
    "\n",
    "# round to 2 decimal places\n",
    "df['Price'] = df['Price'].round(2)"
   ]
  },
  {
   "cell_type": "markdown",
   "id": "4cab77e4",
   "metadata": {},
   "source": [
    "### Standardise payment method"
   ]
  },
  {
   "cell_type": "code",
   "execution_count": 16,
   "id": "5d5d87a7",
   "metadata": {},
   "outputs": [],
   "source": [
    "df['Payment_Method'].unique()\n",
    "\n",
    "payment_standardisation_map = {\n",
    "    # paypal\n",
    "    'pay pal' : 'PayPal',\n",
    "    \n",
    "    # credit card\n",
    "    'creditcard' : 'Credit Card',\n",
    "    'credit card' : 'Credit Card'\n",
    "}\n",
    "\n",
    "df['Payment_Method'] = df['Payment_Method'].str.strip()\n",
    "df['Payment_Method'] = df['Payment_Method'].map(payment_standardisation_map).fillna(df['Payment_Method'])"
   ]
  },
  {
   "cell_type": "markdown",
   "id": "800efe9f",
   "metadata": {},
   "source": [
    "### Standardise transaction status"
   ]
  },
  {
   "cell_type": "code",
   "execution_count": 17,
   "id": "aa83a25b",
   "metadata": {},
   "outputs": [],
   "source": [
    "df['Transaction_Status'].unique()\n",
    "\n",
    "transaction_standardisation_map = {\n",
    "    # Completed\n",
    "    'completed' : 'Completed',\n",
    "    'complete' : 'Completed'\n",
    "}\n",
    "\n",
    "df['Transaction_Status'] = df['Transaction_Status'].str.strip()\n",
    "df['Transaction_Status'] = df['Transaction_Status'].map(transaction_standardisation_map).fillna(df['Transaction_Status'])"
   ]
  },
  {
   "cell_type": "markdown",
   "id": "cd83f76c",
   "metadata": {},
   "source": [
    "## Output to csv"
   ]
  },
  {
   "cell_type": "code",
   "execution_count": 25,
   "id": "2b25358b",
   "metadata": {},
   "outputs": [],
   "source": [
    "df.to_csv('cleaned_financial_transactions.csv', index=False)"
   ]
  }
 ],
 "metadata": {
  "kernelspec": {
   "display_name": "Python 3 (ipykernel)",
   "language": "python",
   "name": "python3"
  },
  "language_info": {
   "codemirror_mode": {
    "name": "ipython",
    "version": 3
   },
   "file_extension": ".py",
   "mimetype": "text/x-python",
   "name": "python",
   "nbconvert_exporter": "python",
   "pygments_lexer": "ipython3",
   "version": "3.9.16"
  }
 },
 "nbformat": 4,
 "nbformat_minor": 5
}
